{
 "cells": [
  {
   "cell_type": "code",
   "execution_count": 146,
   "metadata": {},
   "outputs": [],
   "source": [
    "import pandas as pd\n",
    "import numpy as np\n",
    "from nltk import tokenize, word_tokenize\n",
    "from collections import Counter\n",
    "import re\n",
    "import fileinput\n",
    "import sys"
   ]
  },
  {
   "cell_type": "code",
   "execution_count": 3,
   "metadata": {},
   "outputs": [],
   "source": [
    "with open('basic_spell_checker_corpus.txt') as f:\n",
    "    corpus = f.read()"
   ]
  },
  {
   "cell_type": "code",
   "execution_count": 21,
   "metadata": {},
   "outputs": [
    {
     "data": {
      "text/plain": [
       "'The Projet Gutenberg EBook of The Golden Bough (Third Edition, Vol. 8 of\\n2) by James George Frazer\\n\\n\\n\\nThis eBook is for the use of nyone anywhere at no cost and with almost no\\nrestritions whatsoever. '"
      ]
     },
     "execution_count": 21,
     "metadata": {},
     "output_type": "execute_result"
    }
   ],
   "source": [
    "corpus[:200]"
   ]
  },
  {
   "cell_type": "code",
   "execution_count": 23,
   "metadata": {},
   "outputs": [],
   "source": [
    "tokenized_corpus = [word.lower() for word in word_tokenize(corpus) if word.isalpha()]"
   ]
  },
  {
   "cell_type": "code",
   "execution_count": 25,
   "metadata": {},
   "outputs": [],
   "source": [
    "corpus_cnt = Counter(tokenized_corpus)"
   ]
  },
  {
   "cell_type": "code",
   "execution_count": 30,
   "metadata": {},
   "outputs": [],
   "source": [
    "input_words = []\n",
    "with open('input00.txt') as f:\n",
    "    for line in f:\n",
    "        input_words.append(line.replace('\\n', ''))"
   ]
  },
  {
   "cell_type": "code",
   "execution_count": 32,
   "metadata": {},
   "outputs": [],
   "source": [
    "input_words = input_words[1:]"
   ]
  },
  {
   "cell_type": "code",
   "execution_count": 34,
   "metadata": {},
   "outputs": [
    {
     "data": {
      "text/plain": [
       "'bberant'"
      ]
     },
     "execution_count": 34,
     "metadata": {},
     "output_type": "execute_result"
    }
   ],
   "source": [
    "input_words[0]"
   ]
  },
  {
   "cell_type": "code",
   "execution_count": 94,
   "metadata": {},
   "outputs": [],
   "source": [
    "# check if we delete one character, is it in corpus:\n",
    "\n",
    "def check_delete(word):\n",
    "    \n",
    "    possible_delete_combination = set()\n",
    "    \n",
    "    for i in range(len(word)):\n",
    "        possible_word = ''.join((word[:i], word[i+1:]))\n",
    "        \n",
    "        if possible_word in corpus_cnt and len(possible_word) == len(word)-1:\n",
    "            possible_delete_combination.add(possible_word)\n",
    "    \n",
    "    return possible_delete_combination\n",
    "    "
   ]
  },
  {
   "cell_type": "code",
   "execution_count": 92,
   "metadata": {},
   "outputs": [
    {
     "data": {
      "text/plain": [
       "'bberant'"
      ]
     },
     "execution_count": 92,
     "metadata": {},
     "output_type": "execute_result"
    }
   ],
   "source": [
    "input_words[0]"
   ]
  },
  {
   "cell_type": "code",
   "execution_count": 95,
   "metadata": {},
   "outputs": [
    {
     "data": {
      "text/plain": [
       "{'apple'}"
      ]
     },
     "execution_count": 95,
     "metadata": {},
     "output_type": "execute_result"
    }
   ],
   "source": [
    "check_delete('appple')"
   ]
  },
  {
   "cell_type": "code",
   "execution_count": 67,
   "metadata": {},
   "outputs": [
    {
     "data": {
      "text/plain": [
       "'bb[a-z]erant'"
      ]
     },
     "execution_count": 67,
     "metadata": {},
     "output_type": "execute_result"
    }
   ],
   "source": [
    "word = input_words[0]\n",
    "''.join((word[:2], '[a-z]', word[2:]))"
   ]
  },
  {
   "cell_type": "code",
   "execution_count": 56,
   "metadata": {},
   "outputs": [
    {
     "data": {
      "text/plain": [
       "<re.Match object; span=(0, 7), match='bberant'>"
      ]
     },
     "execution_count": 56,
     "metadata": {},
     "output_type": "execute_result"
    }
   ],
   "source": [
    "import re\n",
    "temp = re.compile('bber[a-z]nt')\n",
    "\n",
    "re.search(temp, 'bberant')"
   ]
  },
  {
   "cell_type": "code",
   "execution_count": 96,
   "metadata": {},
   "outputs": [],
   "source": [
    "\n",
    "def check_insert(word):\n",
    "    \n",
    "    possible_insert_combination = set()\n",
    "    \n",
    "    for i in range(len(word)):\n",
    "        possible_word_re = re.compile(''.join((word[:i], '[a-z]', word[i:])))\n",
    "        for key in corpus_cnt:\n",
    "            if re.match(possible_word_re, key) and len(key) == len(word) + 1:\n",
    "                possible_insert_combination.add(key)\n",
    "    \n",
    "    return possible_insert_combination"
   ]
  },
  {
   "cell_type": "code",
   "execution_count": 97,
   "metadata": {},
   "outputs": [
    {
     "data": {
      "text/plain": [
       "{'ample', 'apple'}"
      ]
     },
     "execution_count": 97,
     "metadata": {},
     "output_type": "execute_result"
    }
   ],
   "source": [
    "check_insert('aple')"
   ]
  },
  {
   "cell_type": "code",
   "execution_count": 98,
   "metadata": {},
   "outputs": [],
   "source": [
    "# check replace\n",
    "\n",
    "def check_replace(word):\n",
    "    \n",
    "    possible_replace_combination = set()\n",
    "    \n",
    "    for i in range(len(word)):\n",
    "        possible_word_re = re.compile(''.join((word[:i], '[a-z]', word[i+1:])))\n",
    "        for key in corpus_cnt:\n",
    "            if re.match(possible_word_re, key) and len(key) == len(word):\n",
    "                possible_replace_combination.add(key)\n",
    "    \n",
    "    return possible_replace_combination"
   ]
  },
  {
   "cell_type": "code",
   "execution_count": 99,
   "metadata": {},
   "outputs": [
    {
     "data": {
      "text/plain": [
       "{'bandon', 'london'}"
      ]
     },
     "execution_count": 99,
     "metadata": {},
     "output_type": "execute_result"
    }
   ],
   "source": [
    "check_replace('bondon')"
   ]
  },
  {
   "cell_type": "code",
   "execution_count": 102,
   "metadata": {},
   "outputs": [],
   "source": [
    "# check swap:\n",
    "def check_swap(word):\n",
    "    \n",
    "    possible_swap_combination = set()\n",
    "    \n",
    "    for i in range(len(word)):\n",
    "        for j in range(i+1, len(word)):\n",
    "            new_word = list(word)\n",
    "            new_word[i], new_word[j] = new_word[j], new_word[i]\n",
    "            new_word = ''.join(new_word)\n",
    "            if new_word in corpus_cnt:\n",
    "                possible_swap_combination.add(new_word)\n",
    "    return possible_swap_combination"
   ]
  },
  {
   "cell_type": "code",
   "execution_count": 105,
   "metadata": {},
   "outputs": [
    {
     "data": {
      "text/plain": [
       "{'apple'}"
      ]
     },
     "execution_count": 105,
     "metadata": {},
     "output_type": "execute_result"
    }
   ],
   "source": [
    "check_swap('paple')"
   ]
  },
  {
   "cell_type": "code",
   "execution_count": 106,
   "metadata": {},
   "outputs": [],
   "source": [
    "word = 'bondon'"
   ]
  },
  {
   "cell_type": "code",
   "execution_count": 108,
   "metadata": {},
   "outputs": [],
   "source": [
    "\n",
    "possible_word = set()\n",
    "\n",
    "possible_word.update(check_delete(word))\n",
    "\n",
    "possible_word.update(check_insert(word))\n",
    "\n",
    "possible_word.update(check_replace(word))\n",
    "\n",
    "possible_word.update(check_swap(word))"
   ]
  },
  {
   "cell_type": "code",
   "execution_count": 144,
   "metadata": {},
   "outputs": [],
   "source": [
    "def get_answer(word):\n",
    "    \n",
    "    if word in corpus_cnt:   \n",
    "        return word \n",
    "    \n",
    "    possible_word = set()\n",
    "\n",
    "    possible_word.update(check_delete(word))\n",
    "\n",
    "    possible_word.update(check_insert(word))\n",
    "\n",
    "    possible_word.update(check_replace(word))\n",
    "\n",
    "    possible_word.update(check_swap(word))\n",
    "\n",
    "    good_answers = sorted([(w, corpus_cnt[w]) for w in possible_word], key = lambda x: -x[1])\n",
    "\n",
    "    \n",
    "    \n",
    "    if len(good_answers) == 0:\n",
    "        \n",
    "        return word\n",
    "\n",
    "    else:\n",
    "#         \n",
    "        return good_answers[0][0]"
   ]
  },
  {
   "cell_type": "code",
   "execution_count": 133,
   "metadata": {},
   "outputs": [
    {
     "data": {
      "text/plain": [
       "'bbrieviate'"
      ]
     },
     "execution_count": 133,
     "metadata": {},
     "output_type": "execute_result"
    }
   ],
   "source": [
    "word = 'bbrieviate'\n",
    "get_answer(word)\n"
   ]
  },
  {
   "cell_type": "code",
   "execution_count": 139,
   "metadata": {},
   "outputs": [
    {
     "data": {
      "text/plain": [
       "['bberant',\n",
       " 'bberation',\n",
       " 'bbrieviated',\n",
       " 'bbriviated',\n",
       " 'bbriviation',\n",
       " 'bcess',\n",
       " 'beration',\n",
       " 'berrent',\n",
       " 'bilites',\n",
       " 'billity']"
      ]
     },
     "execution_count": 139,
     "metadata": {},
     "output_type": "execute_result"
    }
   ],
   "source": [
    "input_words[:10]"
   ]
  },
  {
   "cell_type": "code",
   "execution_count": 145,
   "metadata": {},
   "outputs": [
    {
     "name": "stdout",
     "output_type": "stream",
     "text": [
      "bberant\n",
      "bberation\n",
      "bbrieviated\n",
      "bbriviated\n",
      "bbriviation\n",
      "bscess\n",
      "bgration\n",
      "berrent\n",
      "bilites\n",
      "bility\n"
     ]
    }
   ],
   "source": [
    "for input_word in input_words[:10]:\n",
    "    print(get_answer(input_word))"
   ]
  },
  {
   "cell_type": "code",
   "execution_count": 140,
   "metadata": {},
   "outputs": [
    {
     "data": {
      "text/plain": [
       "'bberant'"
      ]
     },
     "execution_count": 140,
     "metadata": {},
     "output_type": "execute_result"
    }
   ],
   "source": [
    "get_answer('bberant')"
   ]
  },
  {
   "cell_type": "code",
   "execution_count": null,
   "metadata": {},
   "outputs": [],
   "source": []
  }
 ],
 "metadata": {
  "kernelspec": {
   "display_name": "Python 3",
   "language": "python",
   "name": "python3"
  },
  "language_info": {
   "codemirror_mode": {
    "name": "ipython",
    "version": 3
   },
   "file_extension": ".py",
   "mimetype": "text/x-python",
   "name": "python",
   "nbconvert_exporter": "python",
   "pygments_lexer": "ipython3",
   "version": "3.7.1"
  }
 },
 "nbformat": 4,
 "nbformat_minor": 2
}
